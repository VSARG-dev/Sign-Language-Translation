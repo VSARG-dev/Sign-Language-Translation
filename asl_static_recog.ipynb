{
 "cells": [
  {
   "cell_type": "code",
   "execution_count": 1,
   "id": "452aa5ad",
   "metadata": {},
   "outputs": [],
   "source": [
    "import os\n",
    "import shutil\n",
    "import torch\n",
    "import torch.nn.functional as F\n",
    "from torchsummary import summary\n",
    "from torch.utils.data import Dataset, DataLoader\n",
    "from PIL import Image\n",
    "from torchvision import transforms\n",
    "from tqdm.auto import tqdm\n",
    "import matplotlib.pyplot as plt"
   ]
  },
  {
   "cell_type": "code",
   "execution_count": 2,
   "id": "5a61b2d9",
   "metadata": {},
   "outputs": [],
   "source": [
    "# all_dir = os.path.join('Datasets', 'ASL-static', 'archive', 'train_all')\n",
    "# for sign in os.listdir(train_directory):\n",
    "#     for image in os.listdir(os.path.join(train_directory, sign)):\n",
    "#         shutil.copy(os.path.join(train_directory, sign, image), os.path.join(all_dir, image))"
   ]
  },
  {
   "cell_type": "code",
   "execution_count": 3,
   "id": "84751b22",
   "metadata": {},
   "outputs": [],
   "source": [
    "train_dir = os.path.join('Datasets', 'ASL-static', 'archive', 'asl_alphabet_train')\n",
    "train_all_dir = os.path.join('Datasets', 'ASL-static', 'archive', 'train_all')\n",
    "test_dir = os.path.join('Datasets', 'ASL-static', 'archive', 'asl_alphabet_test')\n",
    "\n",
    "sign_to_num = {l: i for i, l in enumerate(os.listdir(train_dir))}\n",
    "num_to_sign = {i: l for l, i in sign_to_num.items()} \n",
    "one_hots = {sign: one_hot for sign, one_hot in zip(sign_to_num.keys(), F.one_hot(torch.tensor(list(sign_to_num.values())), num_classes=len(sign_to_num)))}"
   ]
  },
  {
   "cell_type": "code",
   "execution_count": 4,
   "id": "a7485224",
   "metadata": {},
   "outputs": [
    {
     "data": {
      "text/plain": [
       "device(type='cuda')"
      ]
     },
     "execution_count": 4,
     "metadata": {},
     "output_type": "execute_result"
    }
   ],
   "source": [
    "n_classes = len(sign_to_num)\n",
    "learning_rate = 1e-3\n",
    "batch_size = 32\n",
    "n_epochs = 5\n",
    "device = torch.device('cuda' if torch.cuda.is_available else 'cpu')\n",
    "device"
   ]
  },
  {
   "cell_type": "code",
   "execution_count": 5,
   "id": "b35c6df2",
   "metadata": {},
   "outputs": [
    {
     "name": "stderr",
     "output_type": "stream",
     "text": [
      "Using cache found in C:\\Users\\Pranav/.cache\\torch\\hub\\pytorch_vision_v0.10.0\n"
     ]
    }
   ],
   "source": [
    "model = torch.hub.load('pytorch/vision:v0.10.0', 'inception_v3', pretrained=True)"
   ]
  },
  {
   "cell_type": "code",
   "execution_count": 6,
   "id": "31547c34",
   "metadata": {},
   "outputs": [],
   "source": [
    "class HandSignsDataset(Dataset):\n",
    "    def __init__(self, directory, sign_to_num, preprocess=None):\n",
    "        self.directory = directory\n",
    "        self.img_files = os.listdir(directory)\n",
    "        self.preprocess = preprocess\n",
    "    \n",
    "    def __len__(self):\n",
    "        return len(self.img_files)\n",
    "    \n",
    "    def __getitem__(self, index):\n",
    "        img_name = self.img_files[index]\n",
    "        img_path = os.path.join(self.directory, img_name)\n",
    "        img_class = \"\".join([i for i in img_name if not i.isdigit()])[:-4]\n",
    "        image = Image.open(img_path)\n",
    "        \n",
    "        if self.preprocess:\n",
    "            image = self.preprocess(image)\n",
    "        \n",
    "        return (image, sign_to_num[img_class])"
   ]
  },
  {
   "cell_type": "code",
   "execution_count": 7,
   "id": "c4031866",
   "metadata": {},
   "outputs": [],
   "source": [
    "preprocess = transforms.Compose([\n",
    "    transforms.Resize(299),\n",
    "    transforms.CenterCrop(299),\n",
    "    transforms.ToTensor(),\n",
    "    transforms.Normalize(mean=[0.485, 0.456, 0.406], std=[0.229, 0.224, 0.225]),\n",
    "])\n",
    "\n",
    "dataset = HandSignsDataset(\n",
    "    directory = train_all_dir,\n",
    "    sign_to_num = one_hots,\n",
    "    preprocess = preprocess\n",
    ")"
   ]
  },
  {
   "cell_type": "code",
   "execution_count": 8,
   "id": "74db9e18",
   "metadata": {},
   "outputs": [
    {
     "data": {
      "text/plain": [
       "(85260, 5000, 870, 870)"
      ]
     },
     "execution_count": 8,
     "metadata": {},
     "output_type": "execute_result"
    }
   ],
   "source": [
    "train_size = int(0.98 * len(dataset))\n",
    "small_train_size = 5000\n",
    "val_size = int(len(dataset) - train_size)//2\n",
    "test_size = len(dataset) - train_size - val_size\n",
    "train_size, small_train_size, val_size, test_size"
   ]
  },
  {
   "cell_type": "code",
   "execution_count": 9,
   "id": "71020b9d",
   "metadata": {},
   "outputs": [],
   "source": [
    "train_set, val_set, test_set = torch.utils.data.random_split(dataset, [train_size, val_size, test_size])\n",
    "small_train_set, _ = torch.utils.data.random_split(train_set, [small_train_size, train_size-small_train_size])\n",
    "train_loader = DataLoader(dataset=train_set, batch_size=batch_size, shuffle=True)\n",
    "small_train_loader = DataLoader(dataset=small_train_set, batch_size=batch_size, shuffle=True)\n",
    "val_loader = DataLoader(dataset=val_set, batch_size=batch_size, shuffle=True)\n",
    "test_loader = DataLoader(dataset=test_set, batch_size=batch_size, shuffle=True)"
   ]
  },
  {
   "cell_type": "code",
   "execution_count": 10,
   "id": "009883c6",
   "metadata": {
    "scrolled": true
   },
   "outputs": [],
   "source": [
    "criterion = torch.nn.CrossEntropyLoss()\n",
    "optimizer = torch.optim.Adam(model.parameters(), lr=learning_rate)"
   ]
  },
  {
   "cell_type": "code",
   "execution_count": 11,
   "id": "dc30245a",
   "metadata": {},
   "outputs": [],
   "source": [
    "model.fc = torch.nn.Linear(2048, n_classes)"
   ]
  },
  {
   "cell_type": "code",
   "execution_count": 12,
   "id": "a053f3b2",
   "metadata": {},
   "outputs": [],
   "source": [
    "%%capture\n",
    "model.to(device)"
   ]
  },
  {
   "cell_type": "code",
   "execution_count": 13,
   "id": "beb9d5ad",
   "metadata": {},
   "outputs": [],
   "source": [
    "def train_model(model, dataloaders, criterion, optimizer, n_epochs, small=False):\n",
    "    test_history = []\n",
    "    for epoch in range(n_epochs):\n",
    "        train_progress = tqdm(range(small_train_size if small else train_size))\n",
    "        i = 0\n",
    "        for inputs, labels in dataloaders['train']:\n",
    "            if i%7 == 0:\n",
    "                error = test(model, dataloaders['val'], criterion)\n",
    "                print(error)\n",
    "                test_history.append(error)\n",
    "                model.train()\n",
    "                \n",
    "            inputs = inputs.to(device)\n",
    "            labels = labels.to(device)\n",
    "            \n",
    "            optimizer.zero_grad()\n",
    "\n",
    "            outputs, aux_outputs = model(inputs)\n",
    "            loss1 = criterion(outputs, labels)\n",
    "            loss2 = criterion(aux_outputs, labels)\n",
    "            loss = loss1 + 0.4*loss2\n",
    "            loss.backward()\n",
    "            optimizer.step()\n",
    "            \n",
    "            # print(f\"Output shape: {outputs.shape}, Labels shape: {labels.shape}\")\n",
    "            _, preds = torch.max(outputs, 1)\n",
    "\n",
    "            train_progress.update(len(inputs))\n",
    "\n",
    "            del inputs\n",
    "            del labels\n",
    "            del outputs\n",
    "            del aux_outputs\n",
    "            del loss\n",
    "            \n",
    "            i += 1\n",
    "            \n",
    "    return test_history\n",
    "            \n",
    "def test(model, test_loader, criterion):\n",
    "    model.eval()\n",
    "    running_loss = 0.0\n",
    "    test_progress = tqdm(range(val_size))\n",
    "    for inputs, labels in test_loader:\n",
    "        inputs = inputs.to(device)\n",
    "        labels = labels.to(device)\n",
    "        outputs = model(inputs)\n",
    "        loss = criterion(outputs, labels)\n",
    "        running_loss += loss.item() * inputs.size(0)\n",
    "        \n",
    "        test_progress.update(len(inputs))\n",
    "        \n",
    "        del inputs\n",
    "        del labels\n",
    "        del outputs\n",
    "        del loss\n",
    "        \n",
    "    return running_loss/val_size"
   ]
  },
  {
   "cell_type": "code",
   "execution_count": 14,
   "id": "39bf031e",
   "metadata": {},
   "outputs": [
    {
     "data": {
      "application/vnd.jupyter.widget-view+json": {
       "model_id": "2e41cf21c4e14b50979a15a21bc501ca",
       "version_major": 2,
       "version_minor": 0
      },
      "text/plain": [
       "  0%|          | 0/5000 [00:00<?, ?it/s]"
      ]
     },
     "metadata": {},
     "output_type": "display_data"
    },
    {
     "data": {
      "application/vnd.jupyter.widget-view+json": {
       "model_id": "d6f742f29db4489fb4c393020986c7f7",
       "version_major": 2,
       "version_minor": 0
      },
      "text/plain": [
       "  0%|          | 0/870 [00:00<?, ?it/s]"
      ]
     },
     "metadata": {},
     "output_type": "display_data"
    },
    {
     "name": "stdout",
     "output_type": "stream",
     "text": [
      "3.3940076066159652\n"
     ]
    },
    {
     "data": {
      "application/vnd.jupyter.widget-view+json": {
       "model_id": "c879321db8cc4d34b9b290aecd3eae27",
       "version_major": 2,
       "version_minor": 0
      },
      "text/plain": [
       "  0%|          | 0/870 [00:00<?, ?it/s]"
      ]
     },
     "metadata": {},
     "output_type": "display_data"
    },
    {
     "name": "stdout",
     "output_type": "stream",
     "text": [
      "3.122786260199273\n"
     ]
    },
    {
     "data": {
      "application/vnd.jupyter.widget-view+json": {
       "model_id": "cf705082a67248e993ebf40d3cda2486",
       "version_major": 2,
       "version_minor": 0
      },
      "text/plain": [
       "  0%|          | 0/870 [00:00<?, ?it/s]"
      ]
     },
     "metadata": {},
     "output_type": "display_data"
    },
    {
     "name": "stdout",
     "output_type": "stream",
     "text": [
      "2.3684970548783224\n"
     ]
    },
    {
     "data": {
      "application/vnd.jupyter.widget-view+json": {
       "model_id": "12fc77fc8dff40e6ad81b00e1099546b",
       "version_major": 2,
       "version_minor": 0
      },
      "text/plain": [
       "  0%|          | 0/870 [00:00<?, ?it/s]"
      ]
     },
     "metadata": {},
     "output_type": "display_data"
    },
    {
     "name": "stdout",
     "output_type": "stream",
     "text": [
      "1.3303673187891643\n"
     ]
    },
    {
     "data": {
      "application/vnd.jupyter.widget-view+json": {
       "model_id": "53d71f30f1c342e6b177c7689a696eef",
       "version_major": 2,
       "version_minor": 0
      },
      "text/plain": [
       "  0%|          | 0/870 [00:00<?, ?it/s]"
      ]
     },
     "metadata": {},
     "output_type": "display_data"
    },
    {
     "name": "stdout",
     "output_type": "stream",
     "text": [
      "1.5289320910113982\n"
     ]
    },
    {
     "data": {
      "application/vnd.jupyter.widget-view+json": {
       "model_id": "696bb9accba247d192fed9e0b5c94f97",
       "version_major": 2,
       "version_minor": 0
      },
      "text/plain": [
       "  0%|          | 0/870 [00:00<?, ?it/s]"
      ]
     },
     "metadata": {},
     "output_type": "display_data"
    },
    {
     "name": "stdout",
     "output_type": "stream",
     "text": [
      "0.9513198970378131\n"
     ]
    },
    {
     "data": {
      "application/vnd.jupyter.widget-view+json": {
       "model_id": "33b644dafd624ce5ad4d20074f584e98",
       "version_major": 2,
       "version_minor": 0
      },
      "text/plain": [
       "  0%|          | 0/870 [00:00<?, ?it/s]"
      ]
     },
     "metadata": {},
     "output_type": "display_data"
    },
    {
     "name": "stdout",
     "output_type": "stream",
     "text": [
      "0.598654844843108\n"
     ]
    },
    {
     "data": {
      "application/vnd.jupyter.widget-view+json": {
       "model_id": "705f83b82e7643e1a72a8865fcc961d1",
       "version_major": 2,
       "version_minor": 0
      },
      "text/plain": [
       "  0%|          | 0/870 [00:00<?, ?it/s]"
      ]
     },
     "metadata": {},
     "output_type": "display_data"
    },
    {
     "name": "stdout",
     "output_type": "stream",
     "text": [
      "0.644799298527597\n"
     ]
    },
    {
     "data": {
      "application/vnd.jupyter.widget-view+json": {
       "model_id": "f87dd723d9e44dc0bf121297e815819f",
       "version_major": 2,
       "version_minor": 0
      },
      "text/plain": [
       "  0%|          | 0/870 [00:00<?, ?it/s]"
      ]
     },
     "metadata": {},
     "output_type": "display_data"
    },
    {
     "name": "stdout",
     "output_type": "stream",
     "text": [
      "0.55609021022402\n"
     ]
    },
    {
     "data": {
      "application/vnd.jupyter.widget-view+json": {
       "model_id": "5767275440534c3db043076bcbfe3381",
       "version_major": 2,
       "version_minor": 0
      },
      "text/plain": [
       "  0%|          | 0/870 [00:00<?, ?it/s]"
      ]
     },
     "metadata": {},
     "output_type": "display_data"
    },
    {
     "name": "stdout",
     "output_type": "stream",
     "text": [
      "0.8330846720728381\n"
     ]
    },
    {
     "data": {
      "application/vnd.jupyter.widget-view+json": {
       "model_id": "10386666ae244205a75abccea15364bb",
       "version_major": 2,
       "version_minor": 0
      },
      "text/plain": [
       "  0%|          | 0/870 [00:00<?, ?it/s]"
      ]
     },
     "metadata": {},
     "output_type": "display_data"
    },
    {
     "name": "stdout",
     "output_type": "stream",
     "text": [
      "0.9835336964705895\n"
     ]
    },
    {
     "data": {
      "application/vnd.jupyter.widget-view+json": {
       "model_id": "29c47f085b564416bad0223e1a4f54f8",
       "version_major": 2,
       "version_minor": 0
      },
      "text/plain": [
       "  0%|          | 0/870 [00:00<?, ?it/s]"
      ]
     },
     "metadata": {},
     "output_type": "display_data"
    },
    {
     "name": "stdout",
     "output_type": "stream",
     "text": [
      "0.45185772708092614\n"
     ]
    },
    {
     "data": {
      "application/vnd.jupyter.widget-view+json": {
       "model_id": "3524ecec74f94886a8cf76b1644af8b9",
       "version_major": 2,
       "version_minor": 0
      },
      "text/plain": [
       "  0%|          | 0/870 [00:00<?, ?it/s]"
      ]
     },
     "metadata": {},
     "output_type": "display_data"
    },
    {
     "name": "stdout",
     "output_type": "stream",
     "text": [
      "0.8258720384247001\n"
     ]
    },
    {
     "data": {
      "application/vnd.jupyter.widget-view+json": {
       "model_id": "be81a133b2a84dab813bd717784a0f37",
       "version_major": 2,
       "version_minor": 0
      },
      "text/plain": [
       "  0%|          | 0/870 [00:00<?, ?it/s]"
      ]
     },
     "metadata": {},
     "output_type": "display_data"
    },
    {
     "name": "stdout",
     "output_type": "stream",
     "text": [
      "0.36452175135585085\n"
     ]
    },
    {
     "data": {
      "application/vnd.jupyter.widget-view+json": {
       "model_id": "3c770e66241148a6b3544d7623d710e6",
       "version_major": 2,
       "version_minor": 0
      },
      "text/plain": [
       "  0%|          | 0/870 [00:00<?, ?it/s]"
      ]
     },
     "metadata": {},
     "output_type": "display_data"
    },
    {
     "name": "stdout",
     "output_type": "stream",
     "text": [
      "0.4784092244403116\n"
     ]
    },
    {
     "data": {
      "application/vnd.jupyter.widget-view+json": {
       "model_id": "a9b9baf5f1594cccb2546d2fc13d1476",
       "version_major": 2,
       "version_minor": 0
      },
      "text/plain": [
       "  0%|          | 0/870 [00:00<?, ?it/s]"
      ]
     },
     "metadata": {},
     "output_type": "display_data"
    },
    {
     "name": "stdout",
     "output_type": "stream",
     "text": [
      "0.3760529119906754\n"
     ]
    },
    {
     "data": {
      "application/vnd.jupyter.widget-view+json": {
       "model_id": "a008df7bcce94a13a879b556c438746f",
       "version_major": 2,
       "version_minor": 0
      },
      "text/plain": [
       "  0%|          | 0/870 [00:00<?, ?it/s]"
      ]
     },
     "metadata": {},
     "output_type": "display_data"
    },
    {
     "name": "stdout",
     "output_type": "stream",
     "text": [
      "0.5322187010926762\n"
     ]
    },
    {
     "data": {
      "application/vnd.jupyter.widget-view+json": {
       "model_id": "43f42efcf8ec4b05b3b0732eea2cf059",
       "version_major": 2,
       "version_minor": 0
      },
      "text/plain": [
       "  0%|          | 0/870 [00:00<?, ?it/s]"
      ]
     },
     "metadata": {},
     "output_type": "display_data"
    },
    {
     "name": "stdout",
     "output_type": "stream",
     "text": [
      "0.432519115935797\n"
     ]
    },
    {
     "data": {
      "application/vnd.jupyter.widget-view+json": {
       "model_id": "ef59a02b3991448abaadae79dfe4afec",
       "version_major": 2,
       "version_minor": 0
      },
      "text/plain": [
       "  0%|          | 0/870 [00:00<?, ?it/s]"
      ]
     },
     "metadata": {},
     "output_type": "display_data"
    },
    {
     "name": "stdout",
     "output_type": "stream",
     "text": [
      "0.3029915954789211\n"
     ]
    },
    {
     "data": {
      "application/vnd.jupyter.widget-view+json": {
       "model_id": "18082c99749d449fb5fbd68d07bc44c6",
       "version_major": 2,
       "version_minor": 0
      },
      "text/plain": [
       "  0%|          | 0/870 [00:00<?, ?it/s]"
      ]
     },
     "metadata": {},
     "output_type": "display_data"
    },
    {
     "name": "stdout",
     "output_type": "stream",
     "text": [
      "0.21689141002194634\n"
     ]
    },
    {
     "data": {
      "application/vnd.jupyter.widget-view+json": {
       "model_id": "4f9daa65eb7e499fb5fe707e8f88b480",
       "version_major": 2,
       "version_minor": 0
      },
      "text/plain": [
       "  0%|          | 0/870 [00:00<?, ?it/s]"
      ]
     },
     "metadata": {},
     "output_type": "display_data"
    },
    {
     "name": "stdout",
     "output_type": "stream",
     "text": [
      "0.25681119854936657\n"
     ]
    },
    {
     "data": {
      "application/vnd.jupyter.widget-view+json": {
       "model_id": "58dc9741af8949b0ac474d8aba3530d8",
       "version_major": 2,
       "version_minor": 0
      },
      "text/plain": [
       "  0%|          | 0/870 [00:00<?, ?it/s]"
      ]
     },
     "metadata": {},
     "output_type": "display_data"
    },
    {
     "name": "stdout",
     "output_type": "stream",
     "text": [
      "0.32985603059160296\n"
     ]
    },
    {
     "data": {
      "application/vnd.jupyter.widget-view+json": {
       "model_id": "22fb639a4c9346b2855f088f04aae2cc",
       "version_major": 2,
       "version_minor": 0
      },
      "text/plain": [
       "  0%|          | 0/870 [00:00<?, ?it/s]"
      ]
     },
     "metadata": {},
     "output_type": "display_data"
    },
    {
     "name": "stdout",
     "output_type": "stream",
     "text": [
      "0.4136763553509767\n"
     ]
    }
   ],
   "source": [
    "history = train_model(\n",
    "    model = model,\n",
    "    dataloaders = {'train': small_train_loader, 'val': val_loader},\n",
    "    criterion = criterion,\n",
    "    optimizer = optimizer,\n",
    "    n_epochs = 1,\n",
    "    small = True\n",
    ")"
   ]
  },
  {
   "cell_type": "code",
   "execution_count": 15,
   "id": "5efe15b0",
   "metadata": {},
   "outputs": [
    {
     "data": {
      "text/plain": [
       "[<matplotlib.lines.Line2D at 0x24c0c075190>]"
      ]
     },
     "execution_count": 15,
     "metadata": {},
     "output_type": "execute_result"
    },
    {
     "data": {
      "image/png": "[encoded data removed]",
      "text/plain": [
       "<Figure size 432x288 with 1 Axes>"
      ]
     },
     "metadata": {
      "needs_background": "light"
     },
     "output_type": "display_data"
    }
   ],
   "source": [
    "plt.plot(history)"
   ]
  },
  {
   "cell_type": "code",
   "execution_count": 38,
   "id": "4079b92d",
   "metadata": {},
   "outputs": [
    {
     "data": {
      "image/png": "[encoded data removed]",
      "text/plain": [
       "<PIL.JpegImagePlugin.JpegImageFile image mode=RGB size=200x200 at 0x24DF976B4C0>"
      ]
     },
     "execution_count": 38,
     "metadata": {},
     "output_type": "execute_result"
    }
   ],
   "source": [
    "example_file_name = os.listdir(test_dir)[-1]\n",
    "example = Image.open(os.path.join(test_dir, example_file_name))\n",
    "example"
   ]
  },
  {
   "cell_type": "code",
   "execution_count": 39,
   "id": "463cae96",
   "metadata": {},
   "outputs": [
    {
     "data": {
      "text/plain": [
       "'Z'"
      ]
     },
     "execution_count": 39,
     "metadata": {},
     "output_type": "execute_result"
    }
   ],
   "source": [
    "example_file_name.split(\"_\")[0]"
   ]
  },
  {
   "cell_type": "code",
   "execution_count": 40,
   "id": "85b5b5e8",
   "metadata": {},
   "outputs": [
    {
     "data": {
      "text/plain": [
       "'X'"
      ]
     },
     "execution_count": 40,
     "metadata": {},
     "output_type": "execute_result"
    }
   ],
   "source": [
    "model.eval()\n",
    "inp = preprocess(example).to(device)\n",
    "outs = model(inp.unsqueeze(0))\n",
    "num_to_sign[torch.argmax(outs).item()]"
   ]
  },
  {
   "cell_type": "code",
   "execution_count": 68,
   "id": "14831a24",
   "metadata": {},
   "outputs": [
    {
     "name": "stdout",
     "output_type": "stream",
     "text": [
      "Actual\t\tPredicted\tConfidence\tCorrect\n",
      "A\t\tA\t\t98.58%\t\t✅\n",
      "B\t\tB\t\t93.80%\t\t✅\n",
      "C\t\tC\t\t99.98%\t\t✅\n",
      "D\t\tD\t\t99.39%\t\t✅\n",
      "E\t\tE\t\t99.42%\t\t✅\n",
      "F\t\tF\t\t99.67%\t\t✅\n",
      "G\t\tG\t\t99.92%\t\t✅\n",
      "H\t\tH\t\t80.49%\t\t✅\n",
      "I\t\tI\t\t99.99%\t\t✅\n",
      "J\t\tI\t\t59.92%\t\t❌\n",
      "K\t\tK\t\t99.88%\t\t✅\n",
      "L\t\tL\t\t95.20%\t\t✅\n",
      "M\t\tM\t\t95.97%\t\t✅\n",
      "nothing\t\tnothing\t\t94.74%\t\t✅\n",
      "N\t\tN\t\t92.86%\t\t✅\n",
      "O\t\tO\t\t91.43%\t\t✅\n",
      "P\t\tP\t\t99.76%\t\t✅\n",
      "Q\t\tQ\t\t99.71%\t\t✅\n",
      "R\t\tR\t\t96.39%\t\t✅\n",
      "space\t\tspace\t\t98.33%\t\t✅\n",
      "S\t\tS\t\t100.00%\t\t✅\n",
      "T\t\tT\t\t99.99%\t\t✅\n",
      "U\t\tU\t\t95.69%\t\t✅\n",
      "V\t\tV\t\t74.39%\t\t✅\n",
      "W\t\tW\t\t99.90%\t\t✅\n",
      "X\t\tX\t\t99.30%\t\t✅\n",
      "Y\t\tY\t\t97.50%\t\t✅\n",
      "Z\t\tX\t\t60.64%\t\t❌\n",
      "\n",
      "Accuracy: 92.86%\n"
     ]
    }
   ],
   "source": [
    "model.eval()\n",
    "print(\"Actual\\t\\tPredicted\\tConfidence\\tCorrect\")\n",
    "corrects = wrongs = 0\n",
    "for f in os.listdir(test_dir):\n",
    "    test = Image.open(os.path.join(test_dir, f))\n",
    "    actual_label = f.split(\"_\")[0]\n",
    "    inp = preprocess(test).to(device)\n",
    "    outs = model(inp.unsqueeze(0))\n",
    "    confidence = torch.max(torch.nn.Softmax(dim=1)(outs)).item()\n",
    "    predicted_label = num_to_sign[torch.argmax(outs).item()]\n",
    "    \n",
    "    if actual_label == predicted_label:\n",
    "        print(\"{a}\\t\\t{p}\\t\\t{c:.2%}\\t\\t✅\".format(a=actual_label, p=predicted_label, c=confidence))\n",
    "        corrects += 1\n",
    "    else:\n",
    "        print(\"{a}\\t\\t{p}\\t\\t{c:.2%}\\t\\t❌\".format(a=actual_label, p=predicted_label, c=confidence))\n",
    "        wrongs += 1\n",
    "        \n",
    "print(\"\\nAccuracy: {:.2%}\".format(corrects/(corrects+wrongs)))  "
   ]
  },
  {
   "cell_type": "code",
   "execution_count": null,
   "id": "7f10cc0b",
   "metadata": {},
   "outputs": [],
   "source": []
  }
 ],
 "metadata": {
  "kernelspec": {
   "display_name": "Python 3 (ipykernel)",
   "language": "python",
   "name": "python3"
  },
  "language_info": {
   "codemirror_mode": {
    "name": "ipython",
    "version": 3
   },
   "file_extension": ".py",
   "mimetype": "text/x-python",
   "name": "python",
   "nbconvert_exporter": "python",
   "pygments_lexer": "ipython3",
   "version": "3.9.11"
  }
 },
 "nbformat": 4,
 "nbformat_minor": 5
}
